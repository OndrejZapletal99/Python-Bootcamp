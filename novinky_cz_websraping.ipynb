{
 "cells": [
  {
   "cell_type": "code",
   "execution_count": 1,
   "metadata": {},
   "outputs": [],
   "source": [
    "import bs4\n",
    "import requests\n",
    "import pandas as pd\n",
    "from datetime import datetime\n",
    "import os"
   ]
  },
  {
   "cell_type": "code",
   "execution_count": 2,
   "metadata": {},
   "outputs": [],
   "source": [
    "class NovinkyScraper:\n",
    "    def __init__(self,url,save_folder):\n",
    "        self.url = url\n",
    "        self.res = None\n",
    "        self.soap = None\n",
    "        self.articles = set()\n",
    "        self.save_folder = save_folder\n",
    "        self.download_date = datetime.now().strftime('%Y-%m-%d-%H-%M')\n",
    "\n",
    "    def fetch_page(self):\n",
    "        #Read a web page\n",
    "        self.res = requests.get(self.url)\n",
    "        self.soap = bs4.BeautifulSoup(self.res.text,'lxml')\n",
    "\n",
    "    def extract_articles(self):\n",
    "        #Articles and urls\n",
    "        for article in self.soap.select('.c_aM.c_aP'):\n",
    "            title = article.get_text(strip=True)\n",
    "            a_tag = article.find('a')\n",
    "            if a_tag and 'href' in a_tag.attrs and title != '':\n",
    "                link = a_tag['href']\n",
    "                self.articles.add((title,link,self.download_date))\n",
    "    \n",
    "    def save_to_df(self):\n",
    "        # set to df\n",
    "\n",
    "        df_articles = pd.DataFrame(self.articles,columns=['Title','Link','Download_date'])\n",
    "        return df_articles\n",
    "    \n",
    "    def export_to_csv(self):\n",
    "        file_name = f'novinky_cz_{self.download_date}.csv'\n",
    "        df_articles = self.save_to_df()\n",
    "        file_path = os.path.join(self.save_folder,file_name)\n",
    "\n",
    "        df_articles.to_csv(file_path,index = False,encoding='utf-8-sig')\n",
    "        print('Data has been successfully exported')\n",
    "\n",
    "\n"
   ]
  },
  {
   "cell_type": "code",
   "execution_count": 3,
   "metadata": {},
   "outputs": [
    {
     "name": "stdout",
     "output_type": "stream",
     "text": [
      "Data has been successfully exported\n"
     ]
    }
   ],
   "source": [
    "if __name__ == '__main__':\n",
    "    url = 'https://www.novinky.cz/'\n",
    "    save_folder = r'C:\\Users\\ondra\\OneDrive\\Data analyst\\GITHUB\\Python-Bootcamp\\data_export'\n",
    "\n",
    "    scraper = NovinkyScraper(url,save_folder)\n",
    "    scraper.fetch_page()\n",
    "    scraper.extract_articles()\n",
    "    scraper.export_to_csv()"
   ]
  },
  {
   "cell_type": "code",
   "execution_count": null,
   "metadata": {},
   "outputs": [],
   "source": []
  }
 ],
 "metadata": {
  "kernelspec": {
   "display_name": "Python 3",
   "language": "python",
   "name": "python3"
  },
  "language_info": {
   "codemirror_mode": {
    "name": "ipython",
    "version": 3
   },
   "file_extension": ".py",
   "mimetype": "text/x-python",
   "name": "python",
   "nbconvert_exporter": "python",
   "pygments_lexer": "ipython3",
   "version": "3.12.4"
  }
 },
 "nbformat": 4,
 "nbformat_minor": 2
}
