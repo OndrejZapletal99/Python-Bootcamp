{
 "cells": [
  {
   "cell_type": "code",
   "execution_count": 45,
   "metadata": {},
   "outputs": [],
   "source": [
    "import pandas as pd\n",
    "import os\n",
    "import webbrowser"
   ]
  },
  {
   "cell_type": "code",
   "execution_count": 46,
   "metadata": {},
   "outputs": [],
   "source": [
    "class CSVHandler:\n",
    "\n",
    "    def __init__(self,folder_path):\n",
    "        self.folder_path = folder_path\n",
    "        self.files = []\n",
    "        self.df = None\n",
    "\n",
    "    def find_csv_files(self):\n",
    "        self.files = [f for f in os.listdir(self.folder_path) if f.endswith('.csv')]\n",
    "        if not self.files:\n",
    "            print('No CSV in the folder')\n",
    "        else:\n",
    "            pass\n",
    "\n",
    "    def load_and_combine_csv(self):\n",
    "\n",
    "        dataframes = []\n",
    "\n",
    "        for file in self.files:\n",
    "            file_path = os.path.join(self.folder_path,file)\n",
    "            df = pd.read_csv(file_path).dropna(how='all')\n",
    "            self.df = pd.concat([self.df, df], ignore_index=True)\n",
    "            \n",
    "        self.df = self.df.drop_duplicates(subset=['Title','Link'])\n",
    "        return self.df\n",
    "\n",
    "    def search_articles_by_keywords(self):\n",
    "\n",
    "\n",
    "            keywords_input = input('Enter keywords to search for (separeted by commas): ')\n",
    "\n",
    "            keywords = [keyword.strip() for keyword in keywords_input.split(',')]\n",
    "\n",
    "            \n",
    "            self.filter_mask = self.df['Title'].str.contains('|'.join(keywords), case = False, na = False)\n",
    "\n",
    "            \n",
    "    def filtered_df(self):\n",
    "\n",
    "        filtered_articles = self.df[self.filter_mask]\n",
    "        if filtered_articles is not None:\n",
    "            return filtered_articles\n",
    "        else:\n",
    "            print('No Articles found based on the keywords.')\n",
    "\n",
    "\n",
    "    def print_links(self):\n",
    "\n",
    "        filtered_articles = self.df[self.filter_mask]\n",
    "\n",
    "        if filtered_articles is not None:\n",
    "            for link in filtered_articles['Link']:\n",
    "                print(link)\n",
    "                webbrowser.open(link)\n",
    "        \n",
    "        else:\n",
    "            print('No Link found based on the keywords.')"
   ]
  },
  {
   "cell_type": "code",
   "execution_count": 47,
   "metadata": {},
   "outputs": [],
   "source": [
    "folder_path = r'C:\\Users\\ondra\\OneDrive\\Data analyst\\GITHUB\\Python-Bootcamp\\data_export'\n",
    "\n",
    "find_article = CSVHandler(folder_path)\n",
    "\n",
    "find_article.find_csv_files()\n",
    "\n",
    "find_article.load_and_combine_csv()\n",
    "\n",
    "find_article.search_articles_by_keywords()"
   ]
  },
  {
   "cell_type": "code",
   "execution_count": 48,
   "metadata": {},
   "outputs": [
    {
     "data": {
      "text/html": [
       "<div>\n",
       "<style scoped>\n",
       "    .dataframe tbody tr th:only-of-type {\n",
       "        vertical-align: middle;\n",
       "    }\n",
       "\n",
       "    .dataframe tbody tr th {\n",
       "        vertical-align: top;\n",
       "    }\n",
       "\n",
       "    .dataframe thead th {\n",
       "        text-align: right;\n",
       "    }\n",
       "</style>\n",
       "<table border=\"1\" class=\"dataframe\">\n",
       "  <thead>\n",
       "    <tr style=\"text-align: right;\">\n",
       "      <th></th>\n",
       "      <th>Title</th>\n",
       "      <th>Link</th>\n",
       "      <th>Download_date</th>\n",
       "    </tr>\n",
       "  </thead>\n",
       "  <tbody>\n",
       "    <tr>\n",
       "      <th>28</th>\n",
       "      <td>KOMENTÁŘ: Poselství vánočního roje balistickýc...</td>\n",
       "      <td>https://www.novinky.cz/clanek/komentare-koment...</td>\n",
       "      <td>2024-12-29-11-16</td>\n",
       "    </tr>\n",
       "    <tr>\n",
       "      <th>31</th>\n",
       "      <td>KOMENTÁŘ: Vánoce v neklidné době – Alex Švamberk</td>\n",
       "      <td>https://www.novinky.cz/clanek/komentare-koment...</td>\n",
       "      <td>2024-12-29-11-16</td>\n",
       "    </tr>\n",
       "  </tbody>\n",
       "</table>\n",
       "</div>"
      ],
      "text/plain": [
       "                                                Title  \\\n",
       "28  KOMENTÁŘ: Poselství vánočního roje balistickýc...   \n",
       "31   KOMENTÁŘ: Vánoce v neklidné době – Alex Švamberk   \n",
       "\n",
       "                                                 Link     Download_date  \n",
       "28  https://www.novinky.cz/clanek/komentare-koment...  2024-12-29-11-16  \n",
       "31  https://www.novinky.cz/clanek/komentare-koment...  2024-12-29-11-16  "
      ]
     },
     "execution_count": 48,
     "metadata": {},
     "output_type": "execute_result"
    }
   ],
   "source": [
    "find_article.filtered_df()"
   ]
  },
  {
   "cell_type": "code",
   "execution_count": 49,
   "metadata": {},
   "outputs": [
    {
     "name": "stdout",
     "output_type": "stream",
     "text": [
      "https://www.novinky.cz/clanek/komentare-komentar-poselstvi-vanocniho-roje-balistickych-strel-adela-knapova-40502466\n",
      "https://www.novinky.cz/clanek/komentare-komentar-vanoce-v-neklidne-dobe-alex-svamberk-40502226\n"
     ]
    }
   ],
   "source": [
    "find_article.print_links()"
   ]
  },
  {
   "cell_type": "code",
   "execution_count": null,
   "metadata": {},
   "outputs": [],
   "source": []
  }
 ],
 "metadata": {
  "kernelspec": {
   "display_name": "Python 3",
   "language": "python",
   "name": "python3"
  },
  "language_info": {
   "codemirror_mode": {
    "name": "ipython",
    "version": 3
   },
   "file_extension": ".py",
   "mimetype": "text/x-python",
   "name": "python",
   "nbconvert_exporter": "python",
   "pygments_lexer": "ipython3",
   "version": "3.12.4"
  }
 },
 "nbformat": 4,
 "nbformat_minor": 2
}
