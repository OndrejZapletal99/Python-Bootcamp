{
 "cells": [
  {
   "cell_type": "code",
   "execution_count": 1,
   "metadata": {},
   "outputs": [],
   "source": [
    "import pandas as pd\n",
    "import os\n",
    "import webbrowser"
   ]
  },
  {
   "cell_type": "code",
   "execution_count": 3,
   "metadata": {},
   "outputs": [],
   "source": [
    "import os\n",
    "import pandas as pd\n",
    "import webbrowser\n",
    "import ipywidgets as widgets\n",
    "from IPython.display import display\n",
    "\n",
    "class CSVHandler:\n",
    "\n",
    "    def __init__(self, folder_path):\n",
    "        self.folder_path = folder_path\n",
    "        self.files = []\n",
    "        self.df = None\n",
    "        self.filter_mask = None\n",
    "\n",
    "    def find_csv_files(self):\n",
    "        self.files = [f for f in os.listdir(self.folder_path) if f.endswith('.csv')]\n",
    "        if not self.files:\n",
    "            print('No CSV in the folder')\n",
    "\n",
    "    def load_and_combine_csv(self):\n",
    "        dataframes = []\n",
    "        for file in self.files:\n",
    "            file_path = os.path.join(self.folder_path, file)\n",
    "            df = pd.read_csv(file_path).dropna(how='all')\n",
    "            dataframes.append(df)\n",
    "        \n",
    "        self.df = pd.concat(dataframes, ignore_index=True) if dataframes else pd.DataFrame()\n",
    "        self.df = self.df.drop_duplicates(subset=['Title', 'Link'])\n",
    "        #return self.df\n",
    "\n",
    "    def create_keyword_widget(self):\n",
    "        # Create a Textarea widget for keyword input\n",
    "        self.keyword_widget = widgets.Textarea(\n",
    "            value='',\n",
    "            placeholder='Enter keywords separated by commas',\n",
    "            description='Keywords:',\n",
    "            disabled=False\n",
    "        )\n",
    "        \n",
    "        # Create a button to trigger the search\n",
    "        self.search_button = widgets.Button(\n",
    "            description='Search Articles',\n",
    "            button_style='success'\n",
    "        )\n",
    "        \n",
    "        # Link the button click to the search function\n",
    "        self.search_button.on_click(self.search_articles_by_keywords)\n",
    "\n",
    "        # Display the widget and button\n",
    "        display(self.keyword_widget, self.search_button)\n",
    "\n",
    "    def search_articles_by_keywords(self, button=None):\n",
    "        # Read keywords from the widget\n",
    "        keywords_input = self.keyword_widget.value\n",
    "        keywords = [keyword.strip() for keyword in keywords_input.split(',')]\n",
    "\n",
    "        if self.df is not None and not self.df.empty:\n",
    "            self.filter_mask = self.df['Title'].str.contains('|'.join(keywords), case=False, na=False)\n",
    "            print('Search completed')\n",
    "        else:\n",
    "            print('No data loaded. Please load and combine CSV files first.')\n",
    "\n",
    "    def filtered_df(self):\n",
    "        if self.filter_mask is not None:\n",
    "            filtered_articles = self.df[self.filter_mask]\n",
    "            if not filtered_articles.empty:\n",
    "                return filtered_articles\n",
    "            else:\n",
    "                print('No articles found based on the keywords.')\n",
    "        else:\n",
    "            print('No search performed yet. Use the widget to enter keywords.')\n",
    "\n",
    "    def print_links(self):\n",
    "        if self.filter_mask is not None:\n",
    "            filtered_articles = self.df[self.filter_mask]\n",
    "            if not filtered_articles.empty:\n",
    "                for link in filtered_articles['Link']:\n",
    "                    print(link)\n",
    "                    webbrowser.open(link)\n",
    "            else:\n",
    "                print('No links found based on the keywords.')\n",
    "        else:\n",
    "            print('No search performed yet. Use the widget to enter keywords.')\n",
    "    \n",
    "    def create_action_selector(self):\n",
    "        # Dropdown for selecting action\n",
    "        action_dropdown = widgets.Dropdown(\n",
    "            options=['Select Action', 'Show Filtered Data', 'Open Links'],\n",
    "            description='Action:',\n",
    "            disabled=False\n",
    "        )\n",
    "        \n",
    "        # Button to trigger selected action\n",
    "        action_button = widgets.Button(\n",
    "            description='Execute Action',\n",
    "            button_style='info'\n",
    "        )\n",
    "        \n",
    "        # Link button click to function that executes the chosen action\n",
    "        action_button.on_click(lambda button: self.execute_action(action_dropdown.value))\n",
    "\n",
    "        # Display the dropdown and button\n",
    "        display(action_dropdown, action_button)\n",
    "\n",
    "    def execute_action(self, action):\n",
    "        if action == 'Show Filtered Data':\n",
    "            filtered_articles = self.filtered_df()\n",
    "            if filtered_articles is not None:\n",
    "                display(filtered_articles)\n",
    "        elif action == 'Open Links':\n",
    "            self.print_links()\n",
    "        else:\n",
    "            print('Please select a valid action.')\n"
   ]
  },
  {
   "cell_type": "code",
   "execution_count": 4,
   "metadata": {},
   "outputs": [],
   "source": [
    "folder_path = r'C:\\Users\\ondra\\OneDrive\\Data analyst\\GITHUB\\Python-Bootcamp\\data_export'\n",
    "\n",
    "find_article = CSVHandler(folder_path)\n",
    "\n",
    "find_article.find_csv_files()\n",
    "\n",
    "find_article.load_and_combine_csv()"
   ]
  },
  {
   "cell_type": "code",
   "execution_count": null,
   "metadata": {},
   "outputs": [
    {
     "data": {
      "application/vnd.jupyter.widget-view+json": {
       "model_id": "bdb8d9ea8ece4aeda0cb53474304a607",
       "version_major": 2,
       "version_minor": 0
      },
      "text/plain": [
       "Textarea(value='', description='Keywords:', placeholder='Enter keywords separated by commas')"
      ]
     },
     "metadata": {},
     "output_type": "display_data"
    },
    {
     "data": {
      "application/vnd.jupyter.widget-view+json": {
       "model_id": "4b022c94dace480aba9bd8aa698f1e92",
       "version_major": 2,
       "version_minor": 0
      },
      "text/plain": [
       "Button(button_style='success', description='Search Articles', style=ButtonStyle())"
      ]
     },
     "metadata": {},
     "output_type": "display_data"
    },
    {
     "name": "stdout",
     "output_type": "stream",
     "text": [
      "Search completed\n",
      "Search completed\n"
     ]
    }
   ],
   "source": [
    "find_article.create_keyword_widget()"
   ]
  },
  {
   "cell_type": "code",
   "execution_count": 6,
   "metadata": {},
   "outputs": [
    {
     "data": {
      "application/vnd.jupyter.widget-view+json": {
       "model_id": "fd9e66e56f614ef8a1b6c87b243db4fe",
       "version_major": 2,
       "version_minor": 0
      },
      "text/plain": [
       "Dropdown(description='Action:', options=('Select Action', 'Show Filtered Data', 'Open Links'), value='Select A…"
      ]
     },
     "metadata": {},
     "output_type": "display_data"
    },
    {
     "data": {
      "application/vnd.jupyter.widget-view+json": {
       "model_id": "ad95b865a2aa46ca862d80f621f11fd3",
       "version_major": 2,
       "version_minor": 0
      },
      "text/plain": [
       "Button(button_style='info', description='Execute Action', style=ButtonStyle())"
      ]
     },
     "metadata": {},
     "output_type": "display_data"
    },
    {
     "data": {
      "text/html": [
       "<div>\n",
       "<style scoped>\n",
       "    .dataframe tbody tr th:only-of-type {\n",
       "        vertical-align: middle;\n",
       "    }\n",
       "\n",
       "    .dataframe tbody tr th {\n",
       "        vertical-align: top;\n",
       "    }\n",
       "\n",
       "    .dataframe thead th {\n",
       "        text-align: right;\n",
       "    }\n",
       "</style>\n",
       "<table border=\"1\" class=\"dataframe\">\n",
       "  <thead>\n",
       "    <tr style=\"text-align: right;\">\n",
       "      <th></th>\n",
       "      <th>Title</th>\n",
       "      <th>Link</th>\n",
       "      <th>Download_date</th>\n",
       "    </tr>\n",
       "  </thead>\n",
       "  <tbody>\n",
       "    <tr>\n",
       "      <th>293</th>\n",
       "      <td>EXPRESS NOVINEK: 31 dnů světa podle Trumpa</td>\n",
       "      <td>https://www.novinky.cz/clanek/podcasty-express...</td>\n",
       "      <td>2025-02-20-19-37</td>\n",
       "    </tr>\n",
       "    <tr>\n",
       "      <th>317</th>\n",
       "      <td>Bílý dům zveřejnil obrázek „krále“ Trumpa s ko...</td>\n",
       "      <td>https://www.novinky.cz/clanek/koktejl-bily-dum...</td>\n",
       "      <td>2025-02-20-19-37</td>\n",
       "    </tr>\n",
       "    <tr>\n",
       "      <th>322</th>\n",
       "      <td>Ukrajina musí přestat s kritikou USA a schváli...</td>\n",
       "      <td>https://www.novinky.cz/clanek/zahranicni-ameri...</td>\n",
       "      <td>2025-02-20-19-37</td>\n",
       "    </tr>\n",
       "    <tr>\n",
       "      <th>342</th>\n",
       "      <td>Zelenskyj jednal s Trumpovým zmocněncem, Ameri...</td>\n",
       "      <td>https://www.novinky.cz/clanek/valka-na-ukrajin...</td>\n",
       "      <td>2025-02-20-19-37</td>\n",
       "    </tr>\n",
       "    <tr>\n",
       "      <th>345</th>\n",
       "      <td>Politika šoku a kobercový nálet, hodnotí exper...</td>\n",
       "      <td>https://www.novinky.cz/clanek/podcasty-express...</td>\n",
       "      <td>2025-02-20-19-37</td>\n",
       "    </tr>\n",
       "  </tbody>\n",
       "</table>\n",
       "</div>"
      ],
      "text/plain": [
       "                                                 Title  \\\n",
       "293         EXPRESS NOVINEK: 31 dnů světa podle Trumpa   \n",
       "317  Bílý dům zveřejnil obrázek „krále“ Trumpa s ko...   \n",
       "322  Ukrajina musí přestat s kritikou USA a schváli...   \n",
       "342  Zelenskyj jednal s Trumpovým zmocněncem, Ameri...   \n",
       "345  Politika šoku a kobercový nálet, hodnotí exper...   \n",
       "\n",
       "                                                  Link     Download_date  \n",
       "293  https://www.novinky.cz/clanek/podcasty-express...  2025-02-20-19-37  \n",
       "317  https://www.novinky.cz/clanek/koktejl-bily-dum...  2025-02-20-19-37  \n",
       "322  https://www.novinky.cz/clanek/zahranicni-ameri...  2025-02-20-19-37  \n",
       "342  https://www.novinky.cz/clanek/valka-na-ukrajin...  2025-02-20-19-37  \n",
       "345  https://www.novinky.cz/clanek/podcasty-express...  2025-02-20-19-37  "
      ]
     },
     "metadata": {},
     "output_type": "display_data"
    },
    {
     "data": {
      "text/html": [
       "<div>\n",
       "<style scoped>\n",
       "    .dataframe tbody tr th:only-of-type {\n",
       "        vertical-align: middle;\n",
       "    }\n",
       "\n",
       "    .dataframe tbody tr th {\n",
       "        vertical-align: top;\n",
       "    }\n",
       "\n",
       "    .dataframe thead th {\n",
       "        text-align: right;\n",
       "    }\n",
       "</style>\n",
       "<table border=\"1\" class=\"dataframe\">\n",
       "  <thead>\n",
       "    <tr style=\"text-align: right;\">\n",
       "      <th></th>\n",
       "      <th>Title</th>\n",
       "      <th>Link</th>\n",
       "      <th>Download_date</th>\n",
       "    </tr>\n",
       "  </thead>\n",
       "  <tbody>\n",
       "    <tr>\n",
       "      <th>9</th>\n",
       "      <td>Putin se omluvil kvůli pádu ázerbájdžánského l...</td>\n",
       "      <td>https://www.novinky.cz/clanek/zahranicni-evrop...</td>\n",
       "      <td>2024-12-29-11-16</td>\n",
       "    </tr>\n",
       "    <tr>\n",
       "      <th>40</th>\n",
       "      <td>KOMENTÁŘ: Dárek od Putina - Alex Švamberk</td>\n",
       "      <td>https://www.novinky.cz/clanek/komentare-koment...</td>\n",
       "      <td>2024-12-29-11-16</td>\n",
       "    </tr>\n",
       "  </tbody>\n",
       "</table>\n",
       "</div>"
      ],
      "text/plain": [
       "                                                Title  \\\n",
       "9   Putin se omluvil kvůli pádu ázerbájdžánského l...   \n",
       "40          KOMENTÁŘ: Dárek od Putina - Alex Švamberk   \n",
       "\n",
       "                                                 Link     Download_date  \n",
       "9   https://www.novinky.cz/clanek/zahranicni-evrop...  2024-12-29-11-16  \n",
       "40  https://www.novinky.cz/clanek/komentare-koment...  2024-12-29-11-16  "
      ]
     },
     "metadata": {},
     "output_type": "display_data"
    }
   ],
   "source": [
    "find_article.create_action_selector()"
   ]
  },
  {
   "cell_type": "code",
   "execution_count": null,
   "metadata": {},
   "outputs": [],
   "source": []
  }
 ],
 "metadata": {
  "kernelspec": {
   "display_name": "Python 3",
   "language": "python",
   "name": "python3"
  },
  "language_info": {
   "codemirror_mode": {
    "name": "ipython",
    "version": 3
   },
   "file_extension": ".py",
   "mimetype": "text/x-python",
   "name": "python",
   "nbconvert_exporter": "python",
   "pygments_lexer": "ipython3",
   "version": "3.12.4"
  }
 },
 "nbformat": 4,
 "nbformat_minor": 2
}
